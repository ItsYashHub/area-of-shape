{
 "cells": [
  {
   "cell_type": "code",
   "execution_count": 15,
   "id": "d8095f71-3109-407b-abf1-1fa5333b12e6",
   "metadata": {},
   "outputs": [
    {
     "name": "stdin",
     "output_type": "stream",
     "text": [
      "Enter the radius of the circle:  56\n"
     ]
    },
    {
     "name": "stdout",
     "output_type": "stream",
     "text": [
      "The area of the circle with radius 56.0 is: 9847.04\n"
     ]
    }
   ],
   "source": [
    "#WAP of area of circle using python\n",
    "pi = 3.14\n",
    "radius = float(input(\"Enter the radius of the circle: \"))\n",
    "area = pi*radius*radius\n",
    "print(\"The area of the circle with radius\", radius, \"is:\", area)\n"
   ]
  },
  {
   "cell_type": "code",
   "execution_count": 17,
   "id": "73ae77f3-943b-4b8d-9df1-9306c175ab77",
   "metadata": {},
   "outputs": [
    {
     "name": "stdin",
     "output_type": "stream",
     "text": [
      "Enter the length of the rectangle: 56\n",
      "enter the breadh of the rectangle: 56\n"
     ]
    },
    {
     "name": "stdout",
     "output_type": "stream",
     "text": [
      "area of rectanagle is: 3136.0\n"
     ]
    }
   ],
   "source": [
    "#WAP of area of rectangle using python\n",
    "a=float(input(\"Enter the length of the rectangle:\"))\n",
    "b=float(input(\"enter the breadh of the rectangle:\"))\n",
    "result=a*b\n",
    "print(\"area of rectanagle is:\",result)"
   ]
  },
  {
   "cell_type": "code",
   "execution_count": 19,
   "id": "00c5ba13-8e77-40b3-a3eb-d1fa828512ad",
   "metadata": {},
   "outputs": [
    {
     "name": "stdin",
     "output_type": "stream",
     "text": [
      "Enter the side length of the square:  56\n"
     ]
    },
    {
     "name": "stdout",
     "output_type": "stream",
     "text": [
      "The area of the square with side length 3136.0\n"
     ]
    }
   ],
   "source": [
    "#WAP of area of Square using python\n",
    "side= float(input(\"Enter the side length of the square: \"))\n",
    "area = side*side\n",
    "print(\"The area of the square with side length\",area)"
   ]
  },
  {
   "cell_type": "code",
   "execution_count": 21,
   "id": "dcd11a22-3d08-4617-a21f-9c125e5a06eb",
   "metadata": {},
   "outputs": [
    {
     "name": "stdin",
     "output_type": "stream",
     "text": [
      "Enter the base length of the triangle: 56\n",
      "Enter the height of the triangle:  56\n"
     ]
    },
    {
     "name": "stdout",
     "output_type": "stream",
     "text": [
      "The area of the triangle with base 56.0 and height 56.0 is: 627.2\n"
     ]
    }
   ],
   "source": [
    "#WAP of area of triangle using python\n",
    "base = float(input(\"Enter the base length of the triangle:\"))\n",
    "height = float(input(\"Enter the height of the triangle: \"))\n",
    "\n",
    "area = 1/5 * base * height\n",
    "\n",
    "print(\"The area of the triangle with base\", base, \"and height\", height, \"is:\", area)"
   ]
  },
  {
   "cell_type": "code",
   "execution_count": 23,
   "id": "9a696b8f-2ca5-4145-90bf-f634b1a5952c",
   "metadata": {},
   "outputs": [
    {
     "name": "stdin",
     "output_type": "stream",
     "text": [
      "Enter the length of the paralleogram: 56\n",
      "enter the breadh of the paralleogram: 56\n"
     ]
    },
    {
     "name": "stdout",
     "output_type": "stream",
     "text": [
      "area of paralleogram is: 3136.0\n"
     ]
    }
   ],
   "source": [
    "#WAP of area of paralleogram using python\n",
    "a=float(input(\"Enter the length of the paralleogram:\"))\n",
    "b=float(input(\"enter the breadh of the paralleogram:\"))\n",
    "result=a*b\n",
    "print(\"area of paralleogram is:\",result)"
   ]
  },
  {
   "cell_type": "code",
   "execution_count": 25,
   "id": "1ea4c63c-4562-461e-9337-0b0b72415b24",
   "metadata": {},
   "outputs": [
    {
     "name": "stdin",
     "output_type": "stream",
     "text": [
      "Enter the length of the trapezium: 56\n",
      "enter the breadh of the trapezium: 56\n",
      "enter the height of the trapezium: 56\n"
     ]
    },
    {
     "name": "stdout",
     "output_type": "stream",
     "text": [
      "area of trapezium is: 3136.0\n"
     ]
    }
   ],
   "source": [
    "#WAP of area of Trapezium using python\n",
    "a=float(input(\"Enter the length of the trapezium:\"))\n",
    "b=float(input(\"enter the breadh of the trapezium:\"))\n",
    "c=float(input(\"enter the height of the trapezium:\"))\n",
    "result=(a+b)/2*c\n",
    "print(\"area of trapezium is:\",result)"
   ]
  },
  {
   "cell_type": "code",
   "execution_count": 27,
   "id": "70c3f725-f42b-44ae-aebb-768afb3b463d",
   "metadata": {},
   "outputs": [
    {
     "name": "stdin",
     "output_type": "stream",
     "text": [
      "Enter the length of the Hexagon: 65\n"
     ]
    },
    {
     "name": "stdout",
     "output_type": "stream",
     "text": [
      "area of Hexagon is: 10976.87199296776\n"
     ]
    }
   ],
   "source": [
    "#WAP of area of Hexagon using python\n",
    "import math\n",
    "a=float(input(\"Enter the length of the Hexagon:\"))\n",
    "result=(3*math.sqrt(3)*(a*a))/ 2\n",
    "print(\"area of Hexagon is:\",result)\n"
   ]
  },
  {
   "cell_type": "code",
   "execution_count": 29,
   "id": "2eba3fb4-9bf3-490a-9183-e7c238d0c8a2",
   "metadata": {},
   "outputs": [
    {
     "name": "stdin",
     "output_type": "stream",
     "text": [
      "Enter the radius of the sphere: 56\n"
     ]
    },
    {
     "name": "stdout",
     "output_type": "stream",
     "text": [
      "area of Sphere is: 39388.16\n"
     ]
    }
   ],
   "source": [
    "#WAP of area of Sphere using python\n",
    "a=int(input(\"Enter the radius of the sphere:\"))\n",
    "result=4*3.14*(a*a)\n",
    "print(\"area of Sphere is:\",result)"
   ]
  },
  {
   "cell_type": "code",
   "execution_count": 31,
   "id": "885b1a2e-bf8b-4695-86d1-7b93eb7ade48",
   "metadata": {},
   "outputs": [
    {
     "name": "stdin",
     "output_type": "stream",
     "text": [
      "Enter the D1 diagonal length : 5\n",
      "enter the D2 diagonal length : 66\n"
     ]
    },
    {
     "name": "stdout",
     "output_type": "stream",
     "text": [
      "area of rhombus is: 165.0\n"
     ]
    }
   ],
   "source": [
    "#WAP of area of Rhombus (diamond) using python\n",
    "a=float(input(\"Enter the D1 diagonal length :\"))\n",
    "b=float(input(\"enter the D2 diagonal length :\"))\n",
    "result=a*b/2\n",
    "print(\"area of rhombus is:\",result)"
   ]
  },
  {
   "cell_type": "code",
   "execution_count": 33,
   "id": "59677712-3800-4310-be60-2322236e3c17",
   "metadata": {},
   "outputs": [
    {
     "name": "stdin",
     "output_type": "stream",
     "text": [
      "Enter the Radius : 56\n",
      "enter the Height: 56\n"
     ]
    },
    {
     "name": "stdout",
     "output_type": "stream",
     "text": [
      "area of Cylinder is: 39388.16\n"
     ]
    }
   ],
   "source": [
    "#WAP of area of Cylinder using python\n",
    "#2πrh+2πr2\n",
    "a=float(input(\"Enter the Radius :\"))\n",
    "b=float(input(\"enter the Height:\"))\n",
    "result=(2*3.14)*a*b+2*3.14*(a*a)\n",
    "print(\"area of Cylinder is:\",result)"
   ]
  },
  {
   "cell_type": "code",
   "execution_count": null,
   "id": "23f849d1-8120-4314-925a-76d0ab69a4c2",
   "metadata": {},
   "outputs": [],
   "source": []
  }
 ],
 "metadata": {
  "kernelspec": {
   "display_name": "Python 3 (ipykernel)",
   "language": "python",
   "name": "python3"
  },
  "language_info": {
   "codemirror_mode": {
    "name": "ipython",
    "version": 3
   },
   "file_extension": ".py",
   "mimetype": "text/x-python",
   "name": "python",
   "nbconvert_exporter": "python",
   "pygments_lexer": "ipython3",
   "version": "3.12.4"
  }
 },
 "nbformat": 4,
 "nbformat_minor": 5
}
